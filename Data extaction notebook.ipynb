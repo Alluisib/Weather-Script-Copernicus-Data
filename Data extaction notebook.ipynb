{
 "cells": [
  {
   "cell_type": "code",
   "execution_count": 1,
   "metadata": {},
   "outputs": [],
   "source": [
    "import xarray as xr\n",
    "import pandas as pd\n",
    "from os import walk"
   ]
  },
  {
   "cell_type": "code",
   "execution_count": 2,
   "metadata": {},
   "outputs": [],
   "source": [
    "dir_path = r\"C:\\Users\\Brian\\Documents\\GitHub\\Weather data\\Data\"\n"
   ]
  },
  {
   "cell_type": "code",
   "execution_count": 3,
   "metadata": {},
   "outputs": [],
   "source": [
    "res = []\n",
    "for (dir_path, dir_names, file_names) in walk(dir_path):\n",
    "    res.extend(file_names)\n",
    "    # don't look inside any subdirectory\n",
    "    break"
   ]
  },
  {
   "cell_type": "code",
   "execution_count": 4,
   "metadata": {},
   "outputs": [
    {
     "name": "stdout",
     "output_type": "stream",
     "text": [
      "C:\\Users\\Brian\\Documents\\GitHub\\Weather data\\Data\\fg_ens_mean_0.1deg_reg_v27.0e.nc\n",
      "<xarray.DataArray 'fg' (time: 15706, latitude: 350, longitude: 511)>\n",
      "[2809018100 values with dtype=float32]\n",
      "Coordinates:\n",
      "  * longitude  (longitude) float64 -11.05 -10.95 -10.85 ... 39.75 39.85 39.95\n",
      "  * latitude   (latitude) float64 35.05 35.15 35.25 35.35 ... 69.75 69.85 69.95\n",
      "  * time       (time) datetime64[ns] 1980-01-01 1980-01-02 ... 2022-12-31\n",
      "Attributes:\n",
      "    standard_name:  wind_speed\n",
      "    long_name:      Ensemble mean wind speed\n",
      "    units:          m/s\n",
      "C:\\Users\\Brian\\Documents\\GitHub\\Weather data\\Data\\hu_ens_mean_0.1deg_reg_v27.0e.nc\n",
      "<xarray.DataArray 'hu' (time: 26663, latitude: 465, longitude: 705)>\n",
      "[8740797975 values with dtype=float32]\n",
      "Coordinates:\n",
      "  * longitude  (longitude) float64 -24.95 -24.85 -24.75 ... 45.25 45.35 45.45\n",
      "  * latitude   (latitude) float64 25.05 25.15 25.25 25.35 ... 71.25 71.35 71.45\n",
      "  * time       (time) datetime64[ns] 1950-01-01 1950-01-02 ... 2022-12-31\n",
      "Attributes:\n",
      "    standard_name:  relative_humidity\n",
      "    long_name:      mean relative humidity\n",
      "    units:          %\n",
      "    cell_methods:   ensemble: mean\n",
      "C:\\Users\\Brian\\Documents\\GitHub\\Weather data\\Data\\pp_ens_mean_0.1deg_reg_v27.0e.nc\n",
      "<xarray.DataArray 'pp' (time: 26663, latitude: 465, longitude: 705)>\n",
      "[8740797975 values with dtype=float32]\n",
      "Coordinates:\n",
      "  * latitude   (latitude) float64 25.05 25.15 25.25 25.35 ... 71.25 71.35 71.45\n",
      "  * longitude  (longitude) float64 -24.95 -24.85 -24.75 ... 45.25 45.35 45.45\n",
      "  * time       (time) datetime64[ns] 1950-01-01 1950-01-02 ... 2022-12-31\n",
      "Attributes:\n",
      "    units:          hPa\n",
      "    long_name:      sea level pressure\n",
      "    standard_name:  air_pressure_at_sea_level\n",
      "    cell_methods:   time: mean\n",
      "C:\\Users\\Brian\\Documents\\GitHub\\Weather data\\Data\\rr_ens_mean_0.1deg_reg_v27.0e.nc\n",
      "<xarray.DataArray 'rr' (time: 26663, latitude: 465, longitude: 705)>\n",
      "[8740797975 values with dtype=float32]\n",
      "Coordinates:\n",
      "  * latitude   (latitude) float64 25.05 25.15 25.25 25.35 ... 71.25 71.35 71.45\n",
      "  * longitude  (longitude) float64 -24.95 -24.85 -24.75 ... 45.25 45.35 45.45\n",
      "  * time       (time) datetime64[ns] 1950-01-01 1950-01-02 ... 2022-12-31\n",
      "Attributes:\n",
      "    units:          mm\n",
      "    long_name:      rainfall\n",
      "    standard_name:  thickness_of_rainfall_amount\n",
      "    cell_methods:   time: mean\n",
      "C:\\Users\\Brian\\Documents\\GitHub\\Weather data\\Data\\tg_ens_mean_0.1deg_reg_v27.0e.nc\n",
      "<xarray.DataArray 'tg' (time: 26663, latitude: 465, longitude: 705)>\n",
      "[8740797975 values with dtype=float32]\n",
      "Coordinates:\n",
      "  * time       (time) datetime64[ns] 1950-01-01 1950-01-02 ... 2022-12-31\n",
      "  * longitude  (longitude) float64 -24.95 -24.85 -24.75 ... 45.25 45.35 45.45\n",
      "  * latitude   (latitude) float64 25.05 25.15 25.25 25.35 ... 71.25 71.35 71.45\n",
      "Attributes:\n",
      "    standard_name:  air_temperature\n",
      "    long_name:      mean temperature\n",
      "    units:          Celsius\n",
      "    cell_methods:   time: mean\n",
      "C:\\Users\\Brian\\Documents\\GitHub\\Weather data\\Data\\tn_ens_mean_0.1deg_reg_v27.0e.nc\n",
      "<xarray.DataArray 'tn' (time: 26663, latitude: 465, longitude: 705)>\n",
      "[8740797975 values with dtype=float32]\n",
      "Coordinates:\n",
      "  * latitude   (latitude) float64 25.05 25.15 25.25 25.35 ... 71.25 71.35 71.45\n",
      "  * longitude  (longitude) float64 -24.95 -24.85 -24.75 ... 45.25 45.35 45.45\n",
      "  * time       (time) datetime64[ns] 1950-01-01 1950-01-02 ... 2022-12-31\n",
      "Attributes:\n",
      "    units:          Celsius\n",
      "    long_name:      minimum temperature\n",
      "    standard_name:  air_temperature\n",
      "    cell_methods:   time: mean\n",
      "C:\\Users\\Brian\\Documents\\GitHub\\Weather data\\Data\\tx_ens_mean_0.1deg_reg_v27.0e.nc\n",
      "<xarray.DataArray 'tx' (time: 26663, latitude: 465, longitude: 705)>\n",
      "[8740797975 values with dtype=float32]\n",
      "Coordinates:\n",
      "  * latitude   (latitude) float64 25.05 25.15 25.25 25.35 ... 71.25 71.35 71.45\n",
      "  * longitude  (longitude) float64 -24.95 -24.85 -24.75 ... 45.25 45.35 45.45\n",
      "  * time       (time) datetime64[ns] 1950-01-01 1950-01-02 ... 2022-12-31\n",
      "Attributes:\n",
      "    units:          Celsius\n",
      "    long_name:      maximum temperature\n",
      "    standard_name:  air_temperature\n",
      "    cell_methods:   time: mean\n"
     ]
    }
   ],
   "source": [
    "variables = [\"fg\", \"hu\", \"pp\", \"rr\", \"tg\", \"tn\", \"tx\"]\n",
    "i = 0\n",
    "for files in res:\n",
    "    data_path = dir_path + \"\\\\\" + files\n",
    "    print(data_path)\n",
    "\n",
    "    data = xr.open_dataset(data_path)\n",
    "    print(data[variables[i]])\n",
    "    i += 1"
   ]
  },
  {
   "cell_type": "code",
   "execution_count": 5,
   "metadata": {},
   "outputs": [],
   "source": [
    "#get the mean temp data converted to csv\n",
    "#res[4] is mean temps (\"tg\")\n",
    "data_path = dir_path + \"\\\\\" + res[4]\n",
    "sourcedata=xr.open_dataset(data_path)"
   ]
  },
  {
   "cell_type": "code",
   "execution_count": 262,
   "metadata": {},
   "outputs": [
    {
     "name": "stdout",
     "output_type": "stream",
     "text": [
      "            longitude   latitude         hu\n",
      "time                                       \n",
      "2004-10-04    5.34986  43.349861  73.090004\n",
      "2004-10-05    5.34986  43.349861  56.055000\n",
      "2004-10-06    5.34986  43.349861  69.919998\n",
      "2004-10-07    5.34986  43.349861  73.470001\n",
      "2004-10-08    5.34986  43.349861  71.840004\n",
      "             latitude  longitude           pp\n",
      "time                                         \n",
      "2004-10-04  43.349861    5.34986  1019.900024\n",
      "2004-10-05  43.349861    5.34986  1018.100037\n",
      "2004-10-06  43.349861    5.34986  1016.400024\n",
      "2004-10-07  43.349861    5.34986  1014.900024\n",
      "2004-10-08  43.349861    5.34986  1012.000000\n",
      "...               ...        ...          ...\n",
      "2022-12-27  43.349861    5.34986  1028.300049\n",
      "2022-12-28  43.349861    5.34986  1025.800049\n",
      "2022-12-29  43.349861    5.34986  1020.400024\n",
      "2022-12-30  43.349861    5.34986  1020.400024\n",
      "2022-12-31  43.349861    5.34986  1025.200073\n",
      "\n",
      "[6663 rows x 3 columns]\n",
      "            longitude   latitude         hu\n",
      "time                                       \n",
      "2004-10-04    5.34986  43.349861  73.090004\n",
      "2004-10-05    5.34986  43.349861  56.055000\n",
      "2004-10-06    5.34986  43.349861  69.919998\n",
      "2004-10-07    5.34986  43.349861  73.470001\n",
      "2004-10-08    5.34986  43.349861  71.840004\n",
      "...               ...        ...        ...\n",
      "2022-12-27    5.34986  43.349861  82.410004\n",
      "2022-12-28    5.34986  43.349861  89.044998\n",
      "2022-12-29    5.34986  43.349861  85.770004\n",
      "2022-12-30    5.34986  43.349861  89.584999\n",
      "2022-12-31    5.34986  43.349861  86.099998\n",
      "\n",
      "[6663 rows x 3 columns]\n",
      "            longitude   latitude         hu           pp\n",
      "time                                                    \n",
      "2004-10-04    5.34986  43.349861  73.090004  1019.900024\n",
      "2004-10-05    5.34986  43.349861  56.055000  1018.100037\n",
      "2004-10-06    5.34986  43.349861  69.919998  1016.400024\n",
      "2004-10-07    5.34986  43.349861  73.470001  1014.900024\n",
      "2004-10-08    5.34986  43.349861  71.840004  1012.000000\n",
      "            latitude  longitude   rr\n",
      "time                                \n",
      "2004-10-04  43.34986    5.34986  0.0\n",
      "2004-10-05  43.34986    5.34986  0.0\n",
      "2004-10-06  43.34986    5.34986  0.0\n",
      "2004-10-07  43.34986    5.34986  0.0\n",
      "2004-10-08  43.34986    5.34986  0.0\n",
      "...              ...        ...  ...\n",
      "2022-12-27  43.34986    5.34986  0.0\n",
      "2022-12-28  43.34986    5.34986  0.0\n",
      "2022-12-29  43.34986    5.34986  0.0\n",
      "2022-12-30  43.34986    5.34986  0.0\n",
      "2022-12-31  43.34986    5.34986  0.0\n",
      "\n",
      "[6663 rows x 3 columns]\n",
      "            longitude   latitude         hu           pp\n",
      "time                                                    \n",
      "2004-10-04    5.34986  43.349861  73.090004  1019.900024\n",
      "2004-10-05    5.34986  43.349861  56.055000  1018.100037\n",
      "2004-10-06    5.34986  43.349861  69.919998  1016.400024\n",
      "2004-10-07    5.34986  43.349861  73.470001  1014.900024\n",
      "2004-10-08    5.34986  43.349861  71.840004  1012.000000\n",
      "...               ...        ...        ...          ...\n",
      "2022-12-27    5.34986  43.349861  82.410004  1028.300049\n",
      "2022-12-28    5.34986  43.349861  89.044998  1025.800049\n",
      "2022-12-29    5.34986  43.349861  85.770004  1020.400024\n",
      "2022-12-30    5.34986  43.349861  89.584999  1020.400024\n",
      "2022-12-31    5.34986  43.349861  86.099998  1025.200073\n",
      "\n",
      "[6663 rows x 4 columns]\n",
      "            longitude   latitude         hu           pp   rr\n",
      "time                                                         \n",
      "2004-10-04    5.34986  43.349861  73.090004  1019.900024  0.0\n",
      "2004-10-05    5.34986  43.349861  56.055000  1018.100037  0.0\n",
      "2004-10-06    5.34986  43.349861  69.919998  1016.400024  0.0\n",
      "2004-10-07    5.34986  43.349861  73.470001  1014.900024  0.0\n",
      "2004-10-08    5.34986  43.349861  71.840004  1012.000000  0.0\n",
      "            longitude   latitude         tg\n",
      "time                                       \n",
      "2004-10-04    5.34986  43.349861  19.969999\n",
      "2004-10-05    5.34986  43.349861  20.650000\n",
      "2004-10-06    5.34986  43.349861  21.559999\n",
      "2004-10-07    5.34986  43.349861  20.459999\n",
      "2004-10-08    5.34986  43.349861  21.160000\n",
      "...               ...        ...        ...\n",
      "2022-12-27    5.34986  43.349861  10.460000\n",
      "2022-12-28    5.34986  43.349861   9.190000\n",
      "2022-12-29    5.34986  43.349861  13.400000\n",
      "2022-12-30    5.34986  43.349861  11.920000\n",
      "2022-12-31    5.34986  43.349861  13.150000\n",
      "\n",
      "[6663 rows x 3 columns]\n",
      "            longitude   latitude         hu           pp   rr\n",
      "time                                                         \n",
      "2004-10-04    5.34986  43.349861  73.090004  1019.900024  0.0\n",
      "2004-10-05    5.34986  43.349861  56.055000  1018.100037  0.0\n",
      "2004-10-06    5.34986  43.349861  69.919998  1016.400024  0.0\n",
      "2004-10-07    5.34986  43.349861  73.470001  1014.900024  0.0\n",
      "2004-10-08    5.34986  43.349861  71.840004  1012.000000  0.0\n",
      "...               ...        ...        ...          ...  ...\n",
      "2022-12-27    5.34986  43.349861  82.410004  1028.300049  0.0\n",
      "2022-12-28    5.34986  43.349861  89.044998  1025.800049  0.0\n",
      "2022-12-29    5.34986  43.349861  85.770004  1020.400024  0.0\n",
      "2022-12-30    5.34986  43.349861  89.584999  1020.400024  0.0\n",
      "2022-12-31    5.34986  43.349861  86.099998  1025.200073  0.0\n",
      "\n",
      "[6663 rows x 5 columns]\n",
      "            longitude   latitude         hu           pp   rr         tg\n",
      "time                                                                    \n",
      "2004-10-04    5.34986  43.349861  73.090004  1019.900024  0.0  19.969999\n",
      "2004-10-05    5.34986  43.349861  56.055000  1018.100037  0.0  20.650000\n",
      "2004-10-06    5.34986  43.349861  69.919998  1016.400024  0.0  21.559999\n",
      "2004-10-07    5.34986  43.349861  73.470001  1014.900024  0.0  20.459999\n",
      "2004-10-08    5.34986  43.349861  71.840004  1012.000000  0.0  21.160000\n",
      "             latitude  longitude         tn\n",
      "time                                       \n",
      "2004-10-04  43.349861    5.34986  15.110000\n",
      "2004-10-05  43.349861    5.34986  15.339999\n",
      "2004-10-06  43.349861    5.34986  18.539999\n",
      "2004-10-07  43.349861    5.34986  16.000000\n",
      "2004-10-08  43.349861    5.34986  16.709999\n",
      "...               ...        ...        ...\n",
      "2022-12-27  43.349861    5.34986   5.370000\n",
      "2022-12-28  43.349861    5.34986   2.750000\n",
      "2022-12-29  43.349861    5.34986  10.260000\n",
      "2022-12-30  43.349861    5.34986   8.620000\n",
      "2022-12-31  43.349861    5.34986   7.350000\n",
      "\n",
      "[6663 rows x 3 columns]\n",
      "            longitude   latitude         hu           pp   rr         tg\n",
      "time                                                                    \n",
      "2004-10-04    5.34986  43.349861  73.090004  1019.900024  0.0  19.969999\n",
      "2004-10-05    5.34986  43.349861  56.055000  1018.100037  0.0  20.650000\n",
      "2004-10-06    5.34986  43.349861  69.919998  1016.400024  0.0  21.559999\n",
      "2004-10-07    5.34986  43.349861  73.470001  1014.900024  0.0  20.459999\n",
      "2004-10-08    5.34986  43.349861  71.840004  1012.000000  0.0  21.160000\n",
      "...               ...        ...        ...          ...  ...        ...\n",
      "2022-12-27    5.34986  43.349861  82.410004  1028.300049  0.0  10.460000\n",
      "2022-12-28    5.34986  43.349861  89.044998  1025.800049  0.0   9.190000\n",
      "2022-12-29    5.34986  43.349861  85.770004  1020.400024  0.0  13.400000\n",
      "2022-12-30    5.34986  43.349861  89.584999  1020.400024  0.0  11.920000\n",
      "2022-12-31    5.34986  43.349861  86.099998  1025.200073  0.0  13.150000\n",
      "\n",
      "[6663 rows x 6 columns]\n",
      "            longitude   latitude         hu           pp   rr         tg   \n",
      "time                                                                       \n",
      "2004-10-04    5.34986  43.349861  73.090004  1019.900024  0.0  19.969999  \\\n",
      "2004-10-05    5.34986  43.349861  56.055000  1018.100037  0.0  20.650000   \n",
      "2004-10-06    5.34986  43.349861  69.919998  1016.400024  0.0  21.559999   \n",
      "2004-10-07    5.34986  43.349861  73.470001  1014.900024  0.0  20.459999   \n",
      "2004-10-08    5.34986  43.349861  71.840004  1012.000000  0.0  21.160000   \n",
      "\n",
      "                   tn  \n",
      "time                   \n",
      "2004-10-04  15.110000  \n",
      "2004-10-05  15.339999  \n",
      "2004-10-06  18.539999  \n",
      "2004-10-07  16.000000  \n",
      "2004-10-08  16.709999  \n",
      "             latitude  longitude         tx\n",
      "time                                       \n",
      "2004-10-04  43.349861    5.34986  24.480000\n",
      "2004-10-05  43.349861    5.34986  26.000000\n",
      "2004-10-06  43.349861    5.34986  24.340000\n",
      "2004-10-07  43.349861    5.34986  24.740000\n",
      "2004-10-08  43.349861    5.34986  25.799999\n",
      "...               ...        ...        ...\n",
      "2022-12-27  43.349861    5.34986  15.639999\n",
      "2022-12-28  43.349861    5.34986  15.700000\n",
      "2022-12-29  43.349861    5.34986  15.469999\n",
      "2022-12-30  43.349861    5.34986  15.230000\n",
      "2022-12-31  43.349861    5.34986  19.000000\n",
      "\n",
      "[6663 rows x 3 columns]\n",
      "            longitude   latitude         hu           pp   rr         tg   \n",
      "time                                                                       \n",
      "2004-10-04    5.34986  43.349861  73.090004  1019.900024  0.0  19.969999  \\\n",
      "2004-10-05    5.34986  43.349861  56.055000  1018.100037  0.0  20.650000   \n",
      "2004-10-06    5.34986  43.349861  69.919998  1016.400024  0.0  21.559999   \n",
      "2004-10-07    5.34986  43.349861  73.470001  1014.900024  0.0  20.459999   \n",
      "2004-10-08    5.34986  43.349861  71.840004  1012.000000  0.0  21.160000   \n",
      "...               ...        ...        ...          ...  ...        ...   \n",
      "2022-12-27    5.34986  43.349861  82.410004  1028.300049  0.0  10.460000   \n",
      "2022-12-28    5.34986  43.349861  89.044998  1025.800049  0.0   9.190000   \n",
      "2022-12-29    5.34986  43.349861  85.770004  1020.400024  0.0  13.400000   \n",
      "2022-12-30    5.34986  43.349861  89.584999  1020.400024  0.0  11.920000   \n",
      "2022-12-31    5.34986  43.349861  86.099998  1025.200073  0.0  13.150000   \n",
      "\n",
      "                   tn  \n",
      "time                   \n",
      "2004-10-04  15.110000  \n",
      "2004-10-05  15.339999  \n",
      "2004-10-06  18.539999  \n",
      "2004-10-07  16.000000  \n",
      "2004-10-08  16.709999  \n",
      "...               ...  \n",
      "2022-12-27   5.370000  \n",
      "2022-12-28   2.750000  \n",
      "2022-12-29  10.260000  \n",
      "2022-12-30   8.620000  \n",
      "2022-12-31   7.350000  \n",
      "\n",
      "[6663 rows x 7 columns]\n",
      "            longitude   latitude         hu           pp   rr         tg   \n",
      "time                                                                       \n",
      "2004-10-04    5.34986  43.349861  73.090004  1019.900024  0.0  19.969999  \\\n",
      "2004-10-05    5.34986  43.349861  56.055000  1018.100037  0.0  20.650000   \n",
      "2004-10-06    5.34986  43.349861  69.919998  1016.400024  0.0  21.559999   \n",
      "2004-10-07    5.34986  43.349861  73.470001  1014.900024  0.0  20.459999   \n",
      "2004-10-08    5.34986  43.349861  71.840004  1012.000000  0.0  21.160000   \n",
      "\n",
      "                   tn         tx  \n",
      "time                              \n",
      "2004-10-04  15.110000  24.480000  \n",
      "2004-10-05  15.339999  26.000000  \n",
      "2004-10-06  18.539999  24.340000  \n",
      "2004-10-07  16.000000  24.740000  \n",
      "2004-10-08  16.709999  25.799999  \n"
     ]
    }
   ],
   "source": [
    "temp_lst = [1,2,3,4,5,6]\n",
    "ii = 1\n",
    "for file in temp_lst:\n",
    "    data_path = dir_path + \"\\\\\" + res[file]\n",
    "    sourcedata=xr.open_dataset(data_path)\n",
    "    temp_data = sourcedata[variables[ii]]\n",
    "    #Time slice, lat, long\n",
    "    temp_data = temp_data[20000:,183,303]\n",
    " \n",
    "    if ii == 1:\n",
    "        weather_df = temp_data.to_dataframe()\n",
    "    else:\n",
    "        data_as_df = temp_data.to_dataframe()\n",
    "        print(data_as_df)\n",
    "        print(weather_df)\n",
    "        if len(weather_df) ==len(data_as_df):\n",
    "            weather_df[variables[ii]] = data_as_df[variables[ii]]\n",
    "\n",
    "    ii +=1\n",
    "    print(weather_df.head())\n"
   ]
  },
  {
   "cell_type": "code",
   "execution_count": 263,
   "metadata": {},
   "outputs": [
    {
     "data": {
      "text/plain": [
       "<Axes: xlabel='time'>"
      ]
     },
     "execution_count": 263,
     "metadata": {},
     "output_type": "execute_result"
    },
    {
     "data": {
      "image/png": "[encoded data removed]",
      "text/plain": [
       "<Figure size 640x480 with 1 Axes>"
      ]
     },
     "metadata": {},
     "output_type": "display_data"
    }
   ],
   "source": [
    "weather_df[[\"tg\", \"tn\", \"tx\"]].plot()"
   ]
  },
  {
   "cell_type": "code",
   "execution_count": 264,
   "metadata": {},
   "outputs": [],
   "source": [
    "weather_df[\"target\"] = weather_df.shift(-1)[\"tg\"]"
   ]
  },
  {
   "cell_type": "code",
   "execution_count": 265,
   "metadata": {},
   "outputs": [],
   "source": [
    "weather_df = weather_df.iloc[:-1,:].copy()"
   ]
  },
  {
   "cell_type": "code",
   "execution_count": 266,
   "metadata": {},
   "outputs": [
    {
     "data": {
      "text/html": [
       "<div>\n",
       "<style scoped>\n",
       "    .dataframe tbody tr th:only-of-type {\n",
       "        vertical-align: middle;\n",
       "    }\n",
       "\n",
       "    .dataframe tbody tr th {\n",
       "        vertical-align: top;\n",
       "    }\n",
       "\n",
       "    .dataframe thead th {\n",
       "        text-align: right;\n",
       "    }\n",
       "</style>\n",
       "<table border=\"1\" class=\"dataframe\">\n",
       "  <thead>\n",
       "    <tr style=\"text-align: right;\">\n",
       "      <th></th>\n",
       "      <th>longitude</th>\n",
       "      <th>latitude</th>\n",
       "      <th>hu</th>\n",
       "      <th>pp</th>\n",
       "      <th>rr</th>\n",
       "      <th>tg</th>\n",
       "      <th>tn</th>\n",
       "      <th>tx</th>\n",
       "      <th>target</th>\n",
       "    </tr>\n",
       "    <tr>\n",
       "      <th>time</th>\n",
       "      <th></th>\n",
       "      <th></th>\n",
       "      <th></th>\n",
       "      <th></th>\n",
       "      <th></th>\n",
       "      <th></th>\n",
       "      <th></th>\n",
       "      <th></th>\n",
       "      <th></th>\n",
       "    </tr>\n",
       "  </thead>\n",
       "  <tbody>\n",
       "    <tr>\n",
       "      <th>2004-10-04</th>\n",
       "      <td>5.34986</td>\n",
       "      <td>43.349861</td>\n",
       "      <td>73.090004</td>\n",
       "      <td>1019.900024</td>\n",
       "      <td>0.0</td>\n",
       "      <td>19.969999</td>\n",
       "      <td>15.110000</td>\n",
       "      <td>24.480000</td>\n",
       "      <td>20.650000</td>\n",
       "    </tr>\n",
       "    <tr>\n",
       "      <th>2004-10-05</th>\n",
       "      <td>5.34986</td>\n",
       "      <td>43.349861</td>\n",
       "      <td>56.055000</td>\n",
       "      <td>1018.100037</td>\n",
       "      <td>0.0</td>\n",
       "      <td>20.650000</td>\n",
       "      <td>15.339999</td>\n",
       "      <td>26.000000</td>\n",
       "      <td>21.559999</td>\n",
       "    </tr>\n",
       "    <tr>\n",
       "      <th>2004-10-06</th>\n",
       "      <td>5.34986</td>\n",
       "      <td>43.349861</td>\n",
       "      <td>69.919998</td>\n",
       "      <td>1016.400024</td>\n",
       "      <td>0.0</td>\n",
       "      <td>21.559999</td>\n",
       "      <td>18.539999</td>\n",
       "      <td>24.340000</td>\n",
       "      <td>20.459999</td>\n",
       "    </tr>\n",
       "    <tr>\n",
       "      <th>2004-10-07</th>\n",
       "      <td>5.34986</td>\n",
       "      <td>43.349861</td>\n",
       "      <td>73.470001</td>\n",
       "      <td>1014.900024</td>\n",
       "      <td>0.0</td>\n",
       "      <td>20.459999</td>\n",
       "      <td>16.000000</td>\n",
       "      <td>24.740000</td>\n",
       "      <td>21.160000</td>\n",
       "    </tr>\n",
       "    <tr>\n",
       "      <th>2004-10-08</th>\n",
       "      <td>5.34986</td>\n",
       "      <td>43.349861</td>\n",
       "      <td>71.840004</td>\n",
       "      <td>1012.000000</td>\n",
       "      <td>0.0</td>\n",
       "      <td>21.160000</td>\n",
       "      <td>16.709999</td>\n",
       "      <td>25.799999</td>\n",
       "      <td>20.709999</td>\n",
       "    </tr>\n",
       "    <tr>\n",
       "      <th>...</th>\n",
       "      <td>...</td>\n",
       "      <td>...</td>\n",
       "      <td>...</td>\n",
       "      <td>...</td>\n",
       "      <td>...</td>\n",
       "      <td>...</td>\n",
       "      <td>...</td>\n",
       "      <td>...</td>\n",
       "      <td>...</td>\n",
       "    </tr>\n",
       "    <tr>\n",
       "      <th>2022-12-26</th>\n",
       "      <td>5.34986</td>\n",
       "      <td>43.349861</td>\n",
       "      <td>89.711113</td>\n",
       "      <td>1024.800049</td>\n",
       "      <td>0.0</td>\n",
       "      <td>12.790000</td>\n",
       "      <td>8.650000</td>\n",
       "      <td>17.379999</td>\n",
       "      <td>10.460000</td>\n",
       "    </tr>\n",
       "    <tr>\n",
       "      <th>2022-12-27</th>\n",
       "      <td>5.34986</td>\n",
       "      <td>43.349861</td>\n",
       "      <td>82.410004</td>\n",
       "      <td>1028.300049</td>\n",
       "      <td>0.0</td>\n",
       "      <td>10.460000</td>\n",
       "      <td>5.370000</td>\n",
       "      <td>15.639999</td>\n",
       "      <td>9.190000</td>\n",
       "    </tr>\n",
       "    <tr>\n",
       "      <th>2022-12-28</th>\n",
       "      <td>5.34986</td>\n",
       "      <td>43.349861</td>\n",
       "      <td>89.044998</td>\n",
       "      <td>1025.800049</td>\n",
       "      <td>0.0</td>\n",
       "      <td>9.190000</td>\n",
       "      <td>2.750000</td>\n",
       "      <td>15.700000</td>\n",
       "      <td>13.400000</td>\n",
       "    </tr>\n",
       "    <tr>\n",
       "      <th>2022-12-29</th>\n",
       "      <td>5.34986</td>\n",
       "      <td>43.349861</td>\n",
       "      <td>85.770004</td>\n",
       "      <td>1020.400024</td>\n",
       "      <td>0.0</td>\n",
       "      <td>13.400000</td>\n",
       "      <td>10.260000</td>\n",
       "      <td>15.469999</td>\n",
       "      <td>11.920000</td>\n",
       "    </tr>\n",
       "    <tr>\n",
       "      <th>2022-12-30</th>\n",
       "      <td>5.34986</td>\n",
       "      <td>43.349861</td>\n",
       "      <td>89.584999</td>\n",
       "      <td>1020.400024</td>\n",
       "      <td>0.0</td>\n",
       "      <td>11.920000</td>\n",
       "      <td>8.620000</td>\n",
       "      <td>15.230000</td>\n",
       "      <td>13.150000</td>\n",
       "    </tr>\n",
       "  </tbody>\n",
       "</table>\n",
       "<p>6662 rows × 9 columns</p>\n",
       "</div>"
      ],
      "text/plain": [
       "            longitude   latitude         hu           pp   rr         tg   \n",
       "time                                                                       \n",
       "2004-10-04    5.34986  43.349861  73.090004  1019.900024  0.0  19.969999  \\\n",
       "2004-10-05    5.34986  43.349861  56.055000  1018.100037  0.0  20.650000   \n",
       "2004-10-06    5.34986  43.349861  69.919998  1016.400024  0.0  21.559999   \n",
       "2004-10-07    5.34986  43.349861  73.470001  1014.900024  0.0  20.459999   \n",
       "2004-10-08    5.34986  43.349861  71.840004  1012.000000  0.0  21.160000   \n",
       "...               ...        ...        ...          ...  ...        ...   \n",
       "2022-12-26    5.34986  43.349861  89.711113  1024.800049  0.0  12.790000   \n",
       "2022-12-27    5.34986  43.349861  82.410004  1028.300049  0.0  10.460000   \n",
       "2022-12-28    5.34986  43.349861  89.044998  1025.800049  0.0   9.190000   \n",
       "2022-12-29    5.34986  43.349861  85.770004  1020.400024  0.0  13.400000   \n",
       "2022-12-30    5.34986  43.349861  89.584999  1020.400024  0.0  11.920000   \n",
       "\n",
       "                   tn         tx     target  \n",
       "time                                         \n",
       "2004-10-04  15.110000  24.480000  20.650000  \n",
       "2004-10-05  15.339999  26.000000  21.559999  \n",
       "2004-10-06  18.539999  24.340000  20.459999  \n",
       "2004-10-07  16.000000  24.740000  21.160000  \n",
       "2004-10-08  16.709999  25.799999  20.709999  \n",
       "...               ...        ...        ...  \n",
       "2022-12-26   8.650000  17.379999  10.460000  \n",
       "2022-12-27   5.370000  15.639999   9.190000  \n",
       "2022-12-28   2.750000  15.700000  13.400000  \n",
       "2022-12-29  10.260000  15.469999  11.920000  \n",
       "2022-12-30   8.620000  15.230000  13.150000  \n",
       "\n",
       "[6662 rows x 9 columns]"
      ]
     },
     "execution_count": 266,
     "metadata": {},
     "output_type": "execute_result"
    }
   ],
   "source": [
    "weather_df"
   ]
  },
  {
   "cell_type": "code",
   "execution_count": 267,
   "metadata": {},
   "outputs": [],
   "source": [
    "from sklearn.linear_model import Ridge\n",
    "reg = Ridge(alpha = 0.1)"
   ]
  },
  {
   "cell_type": "code",
   "execution_count": 268,
   "metadata": {},
   "outputs": [],
   "source": [
    "predictors = [\"hu\", \"pp\", \"rr\",\"tg\",\"tn\",\"tx\"]"
   ]
  },
  {
   "cell_type": "code",
   "execution_count": 269,
   "metadata": {},
   "outputs": [],
   "source": [
    "train = weather_df.loc[:\"2021-12-31\"]\n",
    "train = train.dropna()"
   ]
  },
  {
   "cell_type": "code",
   "execution_count": 270,
   "metadata": {},
   "outputs": [],
   "source": [
    "test = weather_df[\"2022-01-01\":]\n",
    "test = test.dropna()"
   ]
  },
  {
   "cell_type": "code",
   "execution_count": 271,
   "metadata": {},
   "outputs": [
    {
     "data": {
      "text/html": [
       "<style>#sk-container-id-11 {color: black;}#sk-container-id-11 pre{padding: 0;}#sk-container-id-11 div.sk-toggleable {background-color: white;}#sk-container-id-11 label.sk-toggleable__label {cursor: pointer;display: block;width: 100%;margin-bottom: 0;padding: 0.3em;box-sizing: border-box;text-align: center;}#sk-container-id-11 label.sk-toggleable__label-arrow:before {content: \"▸\";float: left;margin-right: 0.25em;color: #696969;}#sk-container-id-11 label.sk-toggleable__label-arrow:hover:before {color: black;}#sk-container-id-11 div.sk-estimator:hover label.sk-toggleable__label-arrow:before {color: black;}#sk-container-id-11 div.sk-toggleable__content {max-height: 0;max-width: 0;overflow: hidden;text-align: left;background-color: #f0f8ff;}#sk-container-id-11 div.sk-toggleable__content pre {margin: 0.2em;color: black;border-radius: 0.25em;background-color: #f0f8ff;}#sk-container-id-11 input.sk-toggleable__control:checked~div.sk-toggleable__content {max-height: 200px;max-width: 100%;overflow: auto;}#sk-container-id-11 input.sk-toggleable__control:checked~label.sk-toggleable__label-arrow:before {content: \"▾\";}#sk-container-id-11 div.sk-estimator input.sk-toggleable__control:checked~label.sk-toggleable__label {background-color: #d4ebff;}#sk-container-id-11 div.sk-label input.sk-toggleable__control:checked~label.sk-toggleable__label {background-color: #d4ebff;}#sk-container-id-11 input.sk-hidden--visually {border: 0;clip: rect(1px 1px 1px 1px);clip: rect(1px, 1px, 1px, 1px);height: 1px;margin: -1px;overflow: hidden;padding: 0;position: absolute;width: 1px;}#sk-container-id-11 div.sk-estimator {font-family: monospace;background-color: #f0f8ff;border: 1px dotted black;border-radius: 0.25em;box-sizing: border-box;margin-bottom: 0.5em;}#sk-container-id-11 div.sk-estimator:hover {background-color: #d4ebff;}#sk-container-id-11 div.sk-parallel-item::after {content: \"\";width: 100%;border-bottom: 1px solid gray;flex-grow: 1;}#sk-container-id-11 div.sk-label:hover label.sk-toggleable__label {background-color: #d4ebff;}#sk-container-id-11 div.sk-serial::before {content: \"\";position: absolute;border-left: 1px solid gray;box-sizing: border-box;top: 0;bottom: 0;left: 50%;z-index: 0;}#sk-container-id-11 div.sk-serial {display: flex;flex-direction: column;align-items: center;background-color: white;padding-right: 0.2em;padding-left: 0.2em;position: relative;}#sk-container-id-11 div.sk-item {position: relative;z-index: 1;}#sk-container-id-11 div.sk-parallel {display: flex;align-items: stretch;justify-content: center;background-color: white;position: relative;}#sk-container-id-11 div.sk-item::before, #sk-container-id-11 div.sk-parallel-item::before {content: \"\";position: absolute;border-left: 1px solid gray;box-sizing: border-box;top: 0;bottom: 0;left: 50%;z-index: -1;}#sk-container-id-11 div.sk-parallel-item {display: flex;flex-direction: column;z-index: 1;position: relative;background-color: white;}#sk-container-id-11 div.sk-parallel-item:first-child::after {align-self: flex-end;width: 50%;}#sk-container-id-11 div.sk-parallel-item:last-child::after {align-self: flex-start;width: 50%;}#sk-container-id-11 div.sk-parallel-item:only-child::after {width: 0;}#sk-container-id-11 div.sk-dashed-wrapped {border: 1px dashed gray;margin: 0 0.4em 0.5em 0.4em;box-sizing: border-box;padding-bottom: 0.4em;background-color: white;}#sk-container-id-11 div.sk-label label {font-family: monospace;font-weight: bold;display: inline-block;line-height: 1.2em;}#sk-container-id-11 div.sk-label-container {text-align: center;}#sk-container-id-11 div.sk-container {/* jupyter's `normalize.less` sets `[hidden] { display: none; }` but bootstrap.min.css set `[hidden] { display: none !important; }` so we also need the `!important` here to be able to override the default hidden behavior on the sphinx rendered scikit-learn.org. See: https://github.com/scikit-learn/scikit-learn/issues/21755 */display: inline-block !important;position: relative;}#sk-container-id-11 div.sk-text-repr-fallback {display: none;}</style><div id=\"sk-container-id-11\" class=\"sk-top-container\"><div class=\"sk-text-repr-fallback\"><pre>Ridge(alpha=0.1)</pre><b>In a Jupyter environment, please rerun this cell to show the HTML representation or trust the notebook. <br />On GitHub, the HTML representation is unable to render, please try loading this page with nbviewer.org.</b></div><div class=\"sk-container\" hidden><div class=\"sk-item\"><div class=\"sk-estimator sk-toggleable\"><input class=\"sk-toggleable__control sk-hidden--visually\" id=\"sk-estimator-id-11\" type=\"checkbox\" checked><label for=\"sk-estimator-id-11\" class=\"sk-toggleable__label sk-toggleable__label-arrow\">Ridge</label><div class=\"sk-toggleable__content\"><pre>Ridge(alpha=0.1)</pre></div></div></div></div></div>"
      ],
      "text/plain": [
       "Ridge(alpha=0.1)"
      ]
     },
     "execution_count": 271,
     "metadata": {},
     "output_type": "execute_result"
    }
   ],
   "source": [
    "reg.fit(train[predictors],train[\"target\"])"
   ]
  },
  {
   "cell_type": "code",
   "execution_count": 272,
   "metadata": {},
   "outputs": [],
   "source": [
    "predictions = reg.predict(test[predictors])"
   ]
  },
  {
   "cell_type": "code",
   "execution_count": 273,
   "metadata": {},
   "outputs": [],
   "source": [
    "from sklearn.metrics import mean_absolute_error"
   ]
  },
  {
   "cell_type": "code",
   "execution_count": 274,
   "metadata": {},
   "outputs": [
    {
     "data": {
      "text/plain": [
       "1.2475365"
      ]
     },
     "execution_count": 274,
     "metadata": {},
     "output_type": "execute_result"
    }
   ],
   "source": [
    "mean_absolute_error(test[\"target\"],predictions)"
   ]
  },
  {
   "cell_type": "code",
   "execution_count": 275,
   "metadata": {},
   "outputs": [],
   "source": [
    "combination = pd.concat([test[\"target\"], pd.Series(predictions, index=test.index)], axis=1)"
   ]
  },
  {
   "cell_type": "code",
   "execution_count": 276,
   "metadata": {},
   "outputs": [],
   "source": [
    "combination.columns = [\"target\",\"predictions\"]"
   ]
  },
  {
   "cell_type": "code",
   "execution_count": 277,
   "metadata": {},
   "outputs": [
    {
     "data": {
      "text/html": [
       "<div>\n",
       "<style scoped>\n",
       "    .dataframe tbody tr th:only-of-type {\n",
       "        vertical-align: middle;\n",
       "    }\n",
       "\n",
       "    .dataframe tbody tr th {\n",
       "        vertical-align: top;\n",
       "    }\n",
       "\n",
       "    .dataframe thead th {\n",
       "        text-align: right;\n",
       "    }\n",
       "</style>\n",
       "<table border=\"1\" class=\"dataframe\">\n",
       "  <thead>\n",
       "    <tr style=\"text-align: right;\">\n",
       "      <th></th>\n",
       "      <th>target</th>\n",
       "      <th>predictions</th>\n",
       "    </tr>\n",
       "    <tr>\n",
       "      <th>time</th>\n",
       "      <th></th>\n",
       "      <th></th>\n",
       "    </tr>\n",
       "  </thead>\n",
       "  <tbody>\n",
       "    <tr>\n",
       "      <th>2022-01-01</th>\n",
       "      <td>10.380000</td>\n",
       "      <td>9.920671</td>\n",
       "    </tr>\n",
       "    <tr>\n",
       "      <th>2022-01-02</th>\n",
       "      <td>10.580000</td>\n",
       "      <td>9.677679</td>\n",
       "    </tr>\n",
       "    <tr>\n",
       "      <th>2022-01-03</th>\n",
       "      <td>10.639999</td>\n",
       "      <td>11.025152</td>\n",
       "    </tr>\n",
       "    <tr>\n",
       "      <th>2022-01-04</th>\n",
       "      <td>9.200000</td>\n",
       "      <td>11.037165</td>\n",
       "    </tr>\n",
       "    <tr>\n",
       "      <th>2022-01-05</th>\n",
       "      <td>5.840000</td>\n",
       "      <td>8.826929</td>\n",
       "    </tr>\n",
       "    <tr>\n",
       "      <th>...</th>\n",
       "      <td>...</td>\n",
       "      <td>...</td>\n",
       "    </tr>\n",
       "    <tr>\n",
       "      <th>2022-12-26</th>\n",
       "      <td>10.460000</td>\n",
       "      <td>13.334915</td>\n",
       "    </tr>\n",
       "    <tr>\n",
       "      <th>2022-12-27</th>\n",
       "      <td>9.190000</td>\n",
       "      <td>11.231853</td>\n",
       "    </tr>\n",
       "    <tr>\n",
       "      <th>2022-12-28</th>\n",
       "      <td>13.400000</td>\n",
       "      <td>10.596495</td>\n",
       "    </tr>\n",
       "    <tr>\n",
       "      <th>2022-12-29</th>\n",
       "      <td>11.920000</td>\n",
       "      <td>12.728195</td>\n",
       "    </tr>\n",
       "    <tr>\n",
       "      <th>2022-12-30</th>\n",
       "      <td>13.150000</td>\n",
       "      <td>11.959923</td>\n",
       "    </tr>\n",
       "  </tbody>\n",
       "</table>\n",
       "<p>364 rows × 2 columns</p>\n",
       "</div>"
      ],
      "text/plain": [
       "               target  predictions\n",
       "time                              \n",
       "2022-01-01  10.380000     9.920671\n",
       "2022-01-02  10.580000     9.677679\n",
       "2022-01-03  10.639999    11.025152\n",
       "2022-01-04   9.200000    11.037165\n",
       "2022-01-05   5.840000     8.826929\n",
       "...               ...          ...\n",
       "2022-12-26  10.460000    13.334915\n",
       "2022-12-27   9.190000    11.231853\n",
       "2022-12-28  13.400000    10.596495\n",
       "2022-12-29  11.920000    12.728195\n",
       "2022-12-30  13.150000    11.959923\n",
       "\n",
       "[364 rows x 2 columns]"
      ]
     },
     "execution_count": 277,
     "metadata": {},
     "output_type": "execute_result"
    }
   ],
   "source": [
    "combination"
   ]
  },
  {
   "cell_type": "code",
   "execution_count": 278,
   "metadata": {},
   "outputs": [],
   "source": [
    "monthly_average = combination[\"predictions\"].groupby(combination.index.month)"
   ]
  },
  {
   "cell_type": "code",
   "execution_count": 279,
   "metadata": {},
   "outputs": [
    {
     "data": {
      "text/plain": [
       "<Axes: xlabel='time'>"
      ]
     },
     "execution_count": 279,
     "metadata": {},
     "output_type": "execute_result"
    },
    {
     "data": {
      "image/png": "[encoded data removed]",
      "text/plain": [
       "<Figure size 640x480 with 1 Axes>"
      ]
     },
     "metadata": {},
     "output_type": "display_data"
    }
   ],
   "source": [
    "monthly_average.mean().plot()"
   ]
  },
  {
   "cell_type": "code",
   "execution_count": 280,
   "metadata": {},
   "outputs": [
    {
     "data": {
      "text/plain": [
       "time\n",
       "1      7.470462\n",
       "2     10.318534\n",
       "3     11.495220\n",
       "4     13.915524\n",
       "5     19.874413\n",
       "6     24.747257\n",
       "7     26.394533\n",
       "8     25.475691\n",
       "9     20.689205\n",
       "10    19.331749\n",
       "11    12.998263\n",
       "12     9.738303\n",
       "Name: predictions, dtype: float32"
      ]
     },
     "execution_count": 280,
     "metadata": {},
     "output_type": "execute_result"
    }
   ],
   "source": [
    "monthly_average.mean()"
   ]
  },
  {
   "cell_type": "code",
   "execution_count": 281,
   "metadata": {},
   "outputs": [
    {
     "data": {
      "text/plain": [
       "<Axes: xlabel='time'>"
      ]
     },
     "execution_count": 281,
     "metadata": {},
     "output_type": "execute_result"
    },
    {
     "data": {
      "image/png": "[encoded data removed]",
      "text/plain": [
       "<Figure size 640x480 with 1 Axes>"
      ]
     },
     "metadata": {},
     "output_type": "display_data"
    }
   ],
   "source": [
    "combination.plot()"
   ]
  },
  {
   "cell_type": "code",
   "execution_count": 282,
   "metadata": {},
   "outputs": [
    {
     "data": {
      "text/plain": [
       "array([ 0.0150296 ,  0.00825566, -0.00118029,  0.36012504,  0.10898991,\n",
       "        0.47450933], dtype=float32)"
      ]
     },
     "execution_count": 282,
     "metadata": {},
     "output_type": "execute_result"
    }
   ],
   "source": [
    "reg.coef_"
   ]
  },
  {
   "cell_type": "code",
   "execution_count": null,
   "metadata": {},
   "outputs": [],
   "source": [
    "print(temp_data[1,1,:])"
   ]
  },
  {
   "cell_type": "code",
   "execution_count": null,
   "metadata": {},
   "outputs": [],
   "source": []
  }
 ],
 "metadata": {
  "kernelspec": {
   "display_name": "Python 3",
   "language": "python",
   "name": "python3"
  },
  "language_info": {
   "codemirror_mode": {
    "name": "ipython",
    "version": 3
   },
   "file_extension": ".py",
   "mimetype": "text/x-python",
   "name": "python",
   "nbconvert_exporter": "python",
   "pygments_lexer": "ipython3",
   "version": "3.11.5"
  },
  "orig_nbformat": 4
 },
 "nbformat": 4,
 "nbformat_minor": 2
}
